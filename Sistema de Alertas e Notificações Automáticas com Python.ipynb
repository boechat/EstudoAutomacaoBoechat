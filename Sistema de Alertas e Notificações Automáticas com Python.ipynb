{
 "cells": [
  {
   "cell_type": "markdown",
   "id": "29c5f961",
   "metadata": {},
   "source": [
    "Baseado na videoaula da [Hashtag Programação](https://www.youtube.com/watch?v=ZWF-WQaLorg&t=97s)"
   ]
  },
  {
   "cell_type": "markdown",
   "id": "298d260f",
   "metadata": {},
   "source": [
    "Etapas:\n",
    "<br>1) Pegar a info\n",
    "\n",
    "<br>2) Enviar um aviso por email [https://www.youtube.com/watch?v=N97q96BygUg](Visto na Aula de Email Gmail)\n",
    "     <br># Enviar Apenas quando a cotação do Dolar for menor que R$ 5.06\n",
    "\n",
    "<br>\n",
    "3) Criar uma tarefa agendada"
   ]
  },
  {
   "cell_type": "code",
   "execution_count": 15,
   "id": "c4e4c3fe",
   "metadata": {},
   "outputs": [
    {
     "name": "stdout",
     "output_type": "stream",
     "text": [
      "Cotação atual: R$5.031 | DATA / HORA : 2023-10-17 16:37:59\n"
     ]
    }
   ],
   "source": [
    "##1) Pegar cotação do Dollar\n",
    "\n",
    "#Usando API (Awesome API)  -> https://docs.awesomeapi.com.br/\n",
    "\n",
    "import requests                    #permite puxar informações de uma API\n",
    "requisicao = requests.get(\"https://economia.awesomeapi.com.br/last/USD-BRL\")             #pegando o Get   https://docs.awesomeapi.com.br/api-de-moedas\n",
    "#print(requisicao)       Para Saber se deu certo ou não\n",
    "#print(requisicao.json())      #Printa o dicionario json\n",
    "requisicao_dicionario = requisicao.json()\n",
    "cotacao = float(requisicao_dicionario['USDBRL']['bid'])\n",
    "hora = requisicao_dicionario['USDBRL']['create_date']\n",
    "print('Cotação atual: R$'+ str(cotacao) + ' | DATA / HORA : ' + hora )"
   ]
  },
  {
   "cell_type": "code",
   "execution_count": 17,
   "id": "a39cef61",
   "metadata": {},
   "outputs": [
    {
     "name": "stdout",
     "output_type": "stream",
     "text": [
      "Email enviado\n"
     ]
    }
   ],
   "source": [
    "## 2) Enviar um aviso - email \n",
    "# Enviar Apenas quando a cotação do Dolar for menor que R$ 5.06\n",
    "\n",
    "import smtplib\n",
    "import email.message\n",
    "\n",
    "def enviar_email(cotacao):  \n",
    "    corpo_email = f\"\"\"\n",
    "    <p>Dolar abaixo de R$ 5.06</p>\n",
    "    <p>Cotação Atual: R${cotacao}</p>\n",
    "    \"\"\"\n",
    "\n",
    "    msg = email.message.Message()\n",
    "    msg['Subject'] = \"Aviso RPA: R$5.06 encontrado\"\n",
    "    msg['From'] = 'seuemail@gmail.com'\n",
    "    msg['To'] = 'seuemail@gmail.com'\n",
    "    password = 'colocaaquiasuasenha' \n",
    "    msg.add_header('Content-Type', 'text/html')\n",
    "    msg.set_payload(corpo_email )\n",
    "\n",
    "    s = smtplib.SMTP('smtp.gmail.com: 587')\n",
    "    s.starttls()\n",
    "    # Login Credentials for sending the mail\n",
    "    s.login(msg['From'], password)\n",
    "    s.sendmail(msg['From'], [msg['To']], msg.as_string().encode('utf-8'))\n",
    "    print('Email enviado')\n",
    "\n",
    "\n",
    "if cotacao < 5.20:\n",
    "    enviar_email(cotacao)\n"
   ]
  },
  {
   "cell_type": "markdown",
   "id": "70fd2761",
   "metadata": {},
   "source": [
    "<h1>3) Criar uma Tarefa Agendada</h1>\n",
    "<br>\n",
    "Abrir o aplicativo do Windows de EXECUTAR (WIN + R )\n",
    "<br>\n",
    "\n",
    "Abrir o  Agendador de Tarefas, digitando <b>taskschd.msc</b>\n",
    "<br>\n",
    "\n",
    "No Agendado de Tarefas, clicar em <b>\"Criar Tarefa Básica\"</b>.\n",
    "<br>\n",
    "\n",
    "Dê um Nome e Descrição\n",
    "<br>\n",
    "\n",
    "Na tela \"Configurar a Tarefa\", selecione \"Diariamente\" e clique em Avançar.\n",
    "<br>\n",
    "\n",
    "Especifique a data de início e a recorrência diária. Selecione \"Repetir a cada: 1 dias\" e \"Para: Indefinidamente\" se desejar que a tarefa seja executada diariamente.\n",
    "<br>\n",
    "\n",
    "Na tela \"Ação\", selecione \"Iniciar um programa\" e clique em Avançar.\n",
    "<br>\n",
    "\n",
    "Clique em \"Procurar...\" e selecione o caminho para o interpretador Python (por exemplo, python.exe). Se você não tem o Python no PATH, você pode especificar o caminho completo para o interpretador Python.\n",
    "<br>\n",
    "\n",
    "Em \"Adicionar argumentos (opcional)\", forneça o caminho para o  script Python. \n",
    "<br>\n",
    "\n",
    "Clique em Avançar e em Concluir para criar a tarefa."
   ]
  }
 ],
 "metadata": {
  "kernelspec": {
   "display_name": "Python 3 (ipykernel)",
   "language": "python",
   "name": "python3"
  },
  "language_info": {
   "codemirror_mode": {
    "name": "ipython",
    "version": 3
   },
   "file_extension": ".py",
   "mimetype": "text/x-python",
   "name": "python",
   "nbconvert_exporter": "python",
   "pygments_lexer": "ipython3",
   "version": "3.9.13"
  }
 },
 "nbformat": 4,
 "nbformat_minor": 5
}
