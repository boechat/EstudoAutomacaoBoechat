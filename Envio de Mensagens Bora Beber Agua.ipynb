{
 "cells": [
  {
   "cell_type": "markdown",
   "id": "0063b39f",
   "metadata": {},
   "source": [
    "Projeto de Envio de Mensagem whatsapp, com base na vídeo-aula : [Hashtag Treinamentos: Como Enviar Mensagem no Whatsapp com Python](https://www.youtube.com/watch?v=lvsgEd3ADc0)\n",
    "\n",
    "Segui até certo ponto a video-aula, aproveitando para fazer testes de <b>Tratamento de Erros</b>.\n",
    "\n",
    "É esperado que o código dê erro, uma vez que estamos passando numeros que não existem."
   ]
  },
  {
   "cell_type": "code",
   "execution_count": 22,
   "id": "01edfe2f",
   "metadata": {},
   "outputs": [],
   "source": [
    "import pandas as pd\n",
    "import selenium as se\n",
    "import time\n",
    "import os #caminho combpleto de um arquivo\n",
    "\n",
    "#\n",
    "# https://web.whatsapp.com/send?phone=numero&text=texto\n",
    "#"
   ]
  },
  {
   "cell_type": "code",
   "execution_count": 23,
   "id": "d57442a4",
   "metadata": {},
   "outputs": [],
   "source": [
    "# ENTRA NO WHATSAPP #\n",
    "\n",
    "from selenium import webdriver\n",
    "from selenium.webdriver.common.keys import Keys          \n",
    "from selenium.webdriver.common.by import By\n",
    "from selenium.webdriver.support.ui import WebDriverWait\n",
    "from selenium.webdriver.support import expected_conditions as EC\n",
    "\n",
    "navegador = webdriver.Chrome()\n",
    "##navegador.get vai até uma pagina\n",
    "webzap = (\"https://web.whatsapp.com/\")\n",
    "navegador.get(webzap)\n",
    "\n",
    "TRATA_ERRO = 0\n",
    "FINALIZOU = 0"
   ]
  },
  {
   "cell_type": "code",
   "execution_count": 24,
   "id": "239213b0",
   "metadata": {},
   "outputs": [
    {
     "name": "stdout",
     "output_type": "stream",
     "text": [
      "1\n",
      "QRCODE presente, Aguardar USUARIO autenticar\n"
     ]
    }
   ],
   "source": [
    "## AGUARDA LOGIN ##\n",
    "\n",
    "##Ver se um elemento apareceu na tela#\n",
    "#time.sleep(10)\n",
    "qrcode = navegador.find_elements(By.ID,'app')  \n",
    "## //*[@id=\"app\"]/div/div/div[3]/div[1]/div/div/div[2]/div/canvas  ##\n",
    "print(len(qrcode))\n",
    "\n",
    "# Ver se o QR Code Apareceu na Tela\n",
    "# Inicie a contagem do tempo\n",
    "tentativa = 0\n",
    "while (len(qrcode) < 1):\n",
    "    passou =  time.time()\n",
    "    print('navegador não carregou ainda , Tentativa '+str(tentativa))\n",
    "    print(len(qrcode))\n",
    "    tentativa += 1\n",
    "    qrcode = navegador.find_elements(By.ID,'side')  \n",
    "    time.sleep(1)\n",
    "    \n",
    "print('QRCODE presente, Aguardar USUARIO autenticar')\n",
    "\n",
    "##Feito o Login, Aguardar elemento aparecer na tela\n",
    "#time.sleep(10)\n",
    "elemento_do_navegador = navegador.find_elements(By.ID,'side')  \n",
    "# Inicie a contagem do tempo\n",
    "tentativa = 0\n",
    "while (len(elemento_do_navegador) < 1):\n",
    "    passou =  time.time()\n",
    "    print('navegador não carregou ainda , Tentativa '+str(tentativa))\n",
    "    print(len(elemento_do_navegador))\n",
    "    tentativa += 1\n",
    "    elemento_do_navegador = navegador.find_elements(By.ID,'side')  \n",
    "    time.sleep(7)"
   ]
  },
  {
   "cell_type": "code",
   "execution_count": 25,
   "id": "9dba34b8",
   "metadata": {},
   "outputs": [
    {
     "name": "stderr",
     "output_type": "stream",
     "text": [
      "C:\\Users\\User\\AppData\\Local\\Temp\\ipykernel_18160\\3899320562.py:5: FutureWarning: The frame.append method is deprecated and will be removed from pandas in a future version. Use pandas.concat instead.\n",
      "  tabela = tabela.append(nova_linha, ignore_index=True)\n"
     ]
    },
    {
     "data": {
      "text/plain": [
       "0    Diego Hashtag\n",
       "1     Alon Hashtag\n",
       "2     Lira Hashtag\n",
       "3     NOVO CONTATO\n",
       "Name: nome, dtype: object"
      ]
     },
     "execution_count": 25,
     "metadata": {},
     "output_type": "execute_result"
    }
   ],
   "source": [
    "# WHATSAPP WEB CARREGADO#\n",
    "tabela = pd.read_excel(r'C:\\Users\\User\\Downloads\\Envios.xlsx')\n",
    "\n",
    "nova_linha = {'nome': 'NOVO CONTATO', 'mensagem': 'Hora de Beber Água! Esta é uma mensagem robótica heim!', 'arquivo': 'anexo3.txt', 'telefone': '552192929292929292929'}\n",
    "tabela = tabela.append(nova_linha, ignore_index=True)\n",
    "#Apagando arquivo da linha 3\n",
    "tabela.at[3, 'arquivo'] = 'N' \n",
    "tabela['nome']"
   ]
  },
  {
   "cell_type": "code",
   "execution_count": 26,
   "id": "8552f0c0",
   "metadata": {},
   "outputs": [
    {
     "name": "stdout",
     "output_type": "stream",
     "text": [
      "0   Diego Hashtag\n",
      "1   Alon Hashtag\n",
      "2   Lira Hashtag\n",
      "3   NOVO CONTATO\n",
      "Hora de Beber Água! Esta é uma mensagem robótica heim!\n"
     ]
    }
   ],
   "source": [
    "for linha in tabela.index:\n",
    "    print(str(linha)+ '   ' + str(tabela.iloc[linha][0]))\n",
    "    nome = tabela.iloc[linha][0]\n",
    "    msg = tabela.iloc[linha][1]\n",
    "    arq = tabela.iloc[linha][2]\n",
    "    tel = tabela.iloc[linha][3]\n",
    "    if nome == 'NOVO CONTATO':\n",
    "        print(msg)\n",
    "        break"
   ]
  },
  {
   "cell_type": "code",
   "execution_count": 37,
   "id": "9bc1a8c9",
   "metadata": {},
   "outputs": [
    {
     "name": "stdout",
     "output_type": "stream",
     "text": [
      "16:46:27\n",
      "Link de Envio https://web.whatsapp.com/send?phone=552199366&text=Teste\n",
      "O número de telefone compartilhado por url é inválido.\n"
     ]
    }
   ],
   "source": [
    "import datetime\n",
    "\n",
    "# HORA AGORA\n",
    "hora = datetime.datetime.now()\n",
    "# FORMATAR EM  \"HH:MM:SS\"\n",
    "print(hora.strftime(\"%H:%M:%S\"))\n",
    "msg = msg +' Mensagem Enviada às ' + str(hora.strftime(\"%H:%M:%S\"))\n",
    "\n",
    "###Teste SOBRESCREVER TEL e msg\n",
    "tel = 552199366\n",
    "msg = 'Teste'\n",
    "\n",
    "# ENVIAR MENSAGEM #\n",
    "link_envio = 'https://web.whatsapp.com/send?phone='+str(tel)+'&text='+str(msg)\n",
    "#link_envio = f'https://web.whatsapp.com/send?phone={tel}&text={msg}'\n",
    "print('Link de Envio '+link_envio)\n",
    "navegador.get(link_envio)\n",
    "\n",
    "# Verificar se o número é inválido\n",
    "tentativa = 0\n",
    "time.sleep(5)\n",
    "while (len(elemento_do_navegador) < 1):\n",
    "    print('navegador não carregou ainda , Tentativa '+str(tentativa))\n",
    "    print(len(elemento_do_navegador))\n",
    "    tentativa += 1\n",
    "    elemento_do_navegador = navegador.find_elements(By.ID,'side')  \n",
    "    time.sleep(5)\n",
    "    \n",
    "    \n",
    "if len(navegador.find_elements(By.XPATH,'//*[@id=\"app\"]/div/span[2]/div/span/div/div/div/div/div/div[1]'))>0:\n",
    "    msg_erro = navegador.find_element(By.XPATH,'//*[@id=\"app\"]/div/span[2]/div/span/div/div/div/div/div/div[1]').text \n",
    "    TRATA ERRO = 1\n",
    "    FINALIZOU = 1\n",
    "    print(msg_erro)\n",
    "    break\n"
   ]
  },
  {
   "cell_type": "code",
   "execution_count": 38,
   "id": "22389f21",
   "metadata": {},
   "outputs": [
    {
     "name": "stdout",
     "output_type": "stream",
     "text": [
      "Mensagem Enviada! \n"
     ]
    }
   ],
   "source": [
    "\n",
    "##Esperar a Tela Carregar\n",
    "\n",
    "##Ver se um elemento apareceu na tela#\n",
    "#time.sleep(10)\n",
    "elemento_do_navegador = navegador.find_elements(By.ID,'side')  \n",
    "# Inicie a contagem do tempo\n",
    "tentativa = 0\n",
    "while FINALIZOU == 0:\n",
    "    while (len(elemento_do_navegador) < 1):\n",
    "        if tentativa >= 30:\n",
    "            print('Muitos erros seguidos.')\n",
    "            FINALIZOU = 1\n",
    "            TRATA_ERRO = 1\n",
    "            break\n",
    "        passou =  time.time()\n",
    "        print('navegador não carregou ainda , Tentativa '+str(tentativa))\n",
    "        print(len(elemento_do_navegador))\n",
    "        tentativa += 1\n",
    "        elemento_do_navegador = navegador.find_elements(By.ID,'side')  \n",
    "        time.sleep(1)\n",
    "    \n",
    "    ###Terminou de Carregar\n",
    "    time.sleep(2)\n",
    "    # Localizar elemento pra enviar o enter\n",
    "    caixa_texto = navegador.find_element(By.XPATH,'//*[@id=\"main\"]/footer/div[1]/div/span[2]/div/div[2]/div[1]/div/div[1]/p')  \n",
    "\n",
    "    # Envie a tecla \"Enter\" para o elemento de entrada\n",
    "    caixa_texto.send_keys(Keys.ENTER)\n",
    "    print('Mensagem Enviada! ')\n",
    "    FINALIZOU = 1\n"
   ]
  },
  {
   "cell_type": "code",
   "execution_count": 40,
   "id": "9f67eae7",
   "metadata": {},
   "outputs": [
    {
     "name": "stdout",
     "output_type": "stream",
     "text": [
      "Ocorreu Erro na Execução\n"
     ]
    }
   ],
   "source": [
    "if (TRATA_ERRO == 0):\n",
    "    print('Ocorreu Erro na Execução')\n",
    "else:\n",
    "    print('Execução Concluída Sem Erros')"
   ]
  },
  {
   "cell_type": "code",
   "execution_count": null,
   "id": "bb4b316f",
   "metadata": {},
   "outputs": [],
   "source": []
  },
  {
   "cell_type": "code",
   "execution_count": null,
   "id": "32ad97c6",
   "metadata": {},
   "outputs": [],
   "source": []
  }
 ],
 "metadata": {
  "kernelspec": {
   "display_name": "Python 3 (ipykernel)",
   "language": "python",
   "name": "python3"
  },
  "language_info": {
   "codemirror_mode": {
    "name": "ipython",
    "version": 3
   },
   "file_extension": ".py",
   "mimetype": "text/x-python",
   "name": "python",
   "nbconvert_exporter": "python",
   "pygments_lexer": "ipython3",
   "version": "3.9.13"
  }
 },
 "nbformat": 4,
 "nbformat_minor": 5
}
